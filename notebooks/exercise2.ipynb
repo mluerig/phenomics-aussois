{
 "cells": [
  {
   "cell_type": "markdown",
   "id": "7b5eacdf-8bdc-4b1d-9bd8-28641819c0e7",
   "metadata": {},
   "source": [
    "# Exercise 2 - Deep learning\n",
    "\n",
    "In this exercise we will use phenopype's AI plugins to handle more challenging background and contexts: https://github.com/phenopype/phenopype-plugins\n",
    "\n",
    "<center><img src=../assets/butterfly-example2.jpg width=\"500\" ></center>\n"
   ]
  },
  {
   "cell_type": "code",
   "execution_count": null,
   "id": "c9d49115-9ea3-40ee-9641-809de69c7c51",
   "metadata": {},
   "outputs": [],
   "source": [
    "import phenopype as pp\n",
    "import phenopype_plugins as ppp\n",
    "import os\n",
    "import cv2\n",
    "import matplotlib.pyplot as plt\n",
    "\n",
    "os.chdir(r\"C:\\Users\\mluerig\\Downloads\\phenomics-workshop-aussois-main\") "
   ]
  },
  {
   "cell_type": "markdown",
   "id": "80daa318-781e-477e-94c3-3acbc19730a4",
   "metadata": {},
   "source": [
    "<div class=\"alert-warning\">\n",
    "NOTE: This assumes that you <a href=\"https://www.dropbox.com/scl/fo/ohva31yvrszje221ratpg/ANQdv85xdhkgkwctR5es5OA?rlkey=4kvcsjmlndms70otqsr8ui06y&dl=0\" target=\"_blank\">downloaded the data-archive</a> from dropbox and placed the \"models\" folder in the github-repo.\n",
    "</div>"
   ]
  },
  {
   "cell_type": "code",
   "execution_count": null,
   "id": "9f71659c-f9f0-44b8-86c9-dea6e38305a6",
   "metadata": {},
   "outputs": [],
   "source": [
    "proj = pp.Project(\"phenopype/project2\")"
   ]
  },
  {
   "cell_type": "code",
   "execution_count": null,
   "id": "e5c3d054-63d1-4d50-9a78-ff23a1f056da",
   "metadata": {},
   "outputs": [],
   "source": [
    "proj.add_files(\"data_raw\\images_set2\",recursive=True)"
   ]
  },
  {
   "cell_type": "markdown",
   "id": "b9813c8e-a311-4538-8d91-0672013f7706",
   "metadata": {},
   "source": [
    "We probably won't get far here using signal processing:"
   ]
  },
  {
   "cell_type": "code",
   "execution_count": null,
   "id": "02887881-e142-40d2-8fb1-c4eda73fe6ba",
   "metadata": {},
   "outputs": [],
   "source": [
    "proj.add_config(tag=\"02\", template_path = \"templates/02-thresholding.yaml\", overwrite=True)"
   ]
  },
  {
   "cell_type": "code",
   "execution_count": null,
   "id": "da30a0d9-9dc4-40c8-bc87-649e307b3c42",
   "metadata": {},
   "outputs": [],
   "source": [
    "for path in proj.dir_paths:\n",
    "    p1 = pp.Pype(path, tag=\"02\")"
   ]
  },
  {
   "cell_type": "code",
   "execution_count": null,
   "id": "1b9f99a8-e8c9-42f5-931d-080f8d0d12dd",
   "metadata": {},
   "outputs": [],
   "source": [
    "## new step: register a model to the project\n",
    "proj.add_model(model_id=\"a\", model_path=\"models/FastSAM-s.pt\")"
   ]
  },
  {
   "cell_type": "code",
   "execution_count": null,
   "id": "d4e30cfc-6e0d-4e26-9416-4be2ad2f965e",
   "metadata": {},
   "outputs": [],
   "source": [
    "## has the box prompt (single object per box)\n",
    "proj.add_config(tag=\"03\", template_path = \"templates/03-fastsam.yaml\", overwrite=True)"
   ]
  },
  {
   "cell_type": "code",
   "execution_count": null,
   "id": "c7ff747d-af6a-43be-ab21-b406a92e5293",
   "metadata": {},
   "outputs": [],
   "source": [
    "for path in proj.dir_paths:\n",
    "    p1 = pp.Pype(path, tag=\"03\")"
   ]
  },
  {
   "cell_type": "code",
   "execution_count": null,
   "id": "8a7cdce5-5102-4e63-aabf-00f271ed2d65",
   "metadata": {},
   "outputs": [],
   "source": [
    "## here we register a bigger model to the project...\n",
    "proj.add_model(model_id=\"b\", model_path=\"models/FastSAM-x.pt\")"
   ]
  },
  {
   "cell_type": "code",
   "execution_count": null,
   "id": "a5fab8e1-43a8-4e69-9032-f350a3c30fe5",
   "metadata": {},
   "outputs": [],
   "source": [
    "## and then try again after changing the model_id to \"b\"\n",
    "for path in proj.dir_paths:\n",
    "    p1 = pp.Pype(path, tag=\"03\")"
   ]
  },
  {
   "cell_type": "code",
   "execution_count": null,
   "id": "f1d18df7-2c9d-4cbf-8cc4-c8f7b50cc5bd",
   "metadata": {},
   "outputs": [],
   "source": [
    "## let's try a different prompt\n",
    "help(ppp.plugins.segmentation.predict_fastSAM)"
   ]
  },
  {
   "cell_type": "code",
   "execution_count": null,
   "id": "c70de046-cc25-4059-afce-be2ea7575f3e",
   "metadata": {},
   "outputs": [],
   "source": [
    "## has the everything-box / text prompt set\n",
    "proj.add_config(tag=\"04\", template_path = \"templates/04-fastsam.yaml\", overwrite=True)"
   ]
  },
  {
   "cell_type": "code",
   "execution_count": null,
   "id": "a847aa6e-5b37-47fb-bf36-3d48934eab5a",
   "metadata": {},
   "outputs": [],
   "source": [
    "for path in proj.dir_paths:\n",
    "    p1 = pp.Pype(path, tag=\"04\")"
   ]
  },
  {
   "cell_type": "code",
   "execution_count": null,
   "id": "f5609cbb-a870-47d7-a07f-cb1ffbcfac19",
   "metadata": {},
   "outputs": [],
   "source": [
    "## has the everything prompt\n",
    "proj.add_config(tag=\"05\", template_path = \"templates/05-fastsam.yaml\", overwrite=True)"
   ]
  },
  {
   "cell_type": "code",
   "execution_count": null,
   "id": "278de303-a2f4-428e-90bd-538493108b56",
   "metadata": {},
   "outputs": [],
   "source": [
    "## fully automated pipeline - let's check the results\n",
    "p1 = pp.Pype(path, tag=\"05\")"
   ]
  },
  {
   "cell_type": "code",
   "execution_count": null,
   "id": "ffbc8472-a236-4271-9a7e-902649f1bb02",
   "metadata": {},
   "outputs": [],
   "source": [
    "## set Pype arguments interactive=False and feedback=False, let it run and go get a coffee (or lunch already?) \n",
    "for path in proj.dir_paths:\n",
    "    p1 = pp.Pype(path, tag=\"05\", interactive=False, feedback=False)"
   ]
  },
  {
   "cell_type": "code",
   "execution_count": null,
   "id": "b69d534d-126f-4dbf-aa50-421601747e9f",
   "metadata": {},
   "outputs": [],
   "source": [
    "proj.collect_results(\"05\", \"canvas\", \"canvas_05\")\n",
    "proj.collect_results(\"05\", \"shape_features\", \"shape_features_05.csv\")\n",
    "proj.collect_results(\"05\", \"texture_features\", \"texture_features_05.csv\")"
   ]
  },
  {
   "cell_type": "code",
   "execution_count": null,
   "id": "dd2a89fd-5308-4f1b-8c1d-6e7173bfa952",
   "metadata": {},
   "outputs": [],
   "source": []
  }
 ],
 "metadata": {
  "kernelspec": {
   "display_name": "Python 3 (ipykernel)",
   "language": "python",
   "name": "python3"
  },
  "language_info": {
   "codemirror_mode": {
    "name": "ipython",
    "version": 3
   },
   "file_extension": ".py",
   "mimetype": "text/x-python",
   "name": "python",
   "nbconvert_exporter": "python",
   "pygments_lexer": "ipython3",
   "version": "3.9.19"
  }
 },
 "nbformat": 4,
 "nbformat_minor": 5
}
